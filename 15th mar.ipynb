{
 "cells": [
  {
   "cell_type": "code",
   "execution_count": 2,
   "id": "852097c4-2146-4107-a26c-5d457a4e0692",
   "metadata": {},
   "outputs": [
    {
     "ename": "IndentationError",
     "evalue": "unindent does not match any outer indentation level (<tokenize>, line 7)",
     "output_type": "error",
     "traceback": [
      "\u001b[0;36m  File \u001b[0;32m<tokenize>:7\u001b[0;36m\u001b[0m\n\u001b[0;31m    2.Machine Learning:- a branch of artificial intelligence (AI) and computer science which focuses on the use of data and\u001b[0m\n\u001b[0m    ^\u001b[0m\n\u001b[0;31mIndentationError\u001b[0m\u001b[0;31m:\u001b[0m unindent does not match any outer indentation level\n"
     ]
    }
   ],
   "source": [
    "Q1. Explain the following with an example.\n",
    "1.Artificial Intelligence\n",
    "2.Meachine Learning\n",
    "3.Deep Learning\n",
    "Ans:- 1.Artificial Intelligence:- a field, which combines computer science and robust datasets, to enable problem-solving.\n",
    "       E.g:- Chatbot,voice assistant,etc;\n",
    "      2.Machine Learning:- a branch of artificial intelligence (AI) and computer science which focuses on the use of data and\n",
    "        algorithms to imitate the way that humans learn, gradually improving its accuracy.\n",
    "        E.g:- Image recognition,speech recognition,etc;\n",
    "      3.Deep Leaarning:- a type of machine learning based on artificial neural networks in which multiple layers of processing \n",
    "        are used to extract progressively higher level features from data.\n",
    "        E.g:- Virtual assistant,translators,etc;\n",
    "        \n",
    "Q2. What is supervised Learning? list some examples of supervised Learning.\n",
    "Ans:- uses a training set to teach models to yield the desired output. \n",
    "     E.g: Yes or No,Male or Female,etc;\n",
    "    \n",
    "Q3. What is unsupervised learning? list some examples of unsupervised learning. \n",
    "Ans:- uses machine learning algorithms to analyze and cluster unlabeled datasets.\n",
    "     Eg: K-Means Clustering, Principal Component Analysis and Hierarchical Clustering.\n",
    "    \n",
    "Q4. What is the differences between AI,ML,DL and DS?\n",
    "Ans:- AI: Artificial Intelligence is a branch of computer science it involves building smart machines capable of performing\n",
    "tasks that need human intelligence.\n",
    "    ML: Machine Learning is a branch is based on algorithms and data uses Meachine learning requires complex math \n",
    "      and a lot of coding to achive the desired result.\n",
    "        DL: is a subfield of artificial intelligence. It is used a multiple layered structured of algorithms called neural \n",
    "        network. DL algorithm also need data to learn and solve problems we can also call it subfield of meachine learning.\n",
    "        DS: Data Science is a discipline that uses various technologies and methods and analyze data.It cobines computational\n",
    "        science statitis,mathematices and company or business knowledge.\n",
    "        \n",
    "Q5. What are the main differences between supervised,unsupervised and semi supervised learning?\n",
    "Ans:- \n",
    "\n",
    "Q6. What is train, test and validation split?Explain the importance of each term.\n",
    "Ans:- Train: Training data is an extremely large dataset which is used to teach a meachine learning models.\n",
    "It is also used in prediction models that use machine learning models algorithm how to extract features that are relevent \n",
    "to specific business goals,for supervised ML models,the training data is leveled.\n",
    "Test: Once your meachine learning model is buit with your training data you need to unseen data to test your model.\n",
    "This data is called testing data.\n",
    "Validation split: split validation is a way to predict the fit of the model to a hypothetical testing set when a expilicit\n",
    "testing set is not available.\n",
    "\n",
    "Q7. How can unsupervised learning be used in anormal detection?\n",
    "Ans:- Anomaly detection techniques of unsupervised nature assume that normal data points occur considerably more\n",
    "frequently than anomalous data points. This assumption is used to classify data points that occur less frequently as anomalies. \n",
    "Unsupervised techniques assign each data point a score instead of a label.\n",
    "\n",
    "Q8. List down some commonly used supervised learning algorithms and unsupervised learning algorithms?\n",
    "Ans:- The most commonly used Supervised Learning algorithms are \n",
    "1.decision tree.\n",
    "2.logistic regression.\n",
    "3.linear regression.\n",
    "4.support vector machine."
   ]
  }
 ],
 "metadata": {
  "kernelspec": {
   "display_name": "Python 3 (ipykernel)",
   "language": "python",
   "name": "python3"
  },
  "language_info": {
   "codemirror_mode": {
    "name": "ipython",
    "version": 3
   },
   "file_extension": ".py",
   "mimetype": "text/x-python",
   "name": "python",
   "nbconvert_exporter": "python",
   "pygments_lexer": "ipython3",
   "version": "3.10.6"
  }
 },
 "nbformat": 4,
 "nbformat_minor": 5
}
